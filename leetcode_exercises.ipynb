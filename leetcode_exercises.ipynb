{
 "cells": [
  {
   "cell_type": "markdown",
   "metadata": {},
   "source": [
    "# LeetCode Exercises"
   ]
  },
  {
   "cell_type": "code",
   "execution_count": 1,
   "metadata": {},
   "outputs": [
    {
     "data": {
      "text/plain": [
       "['apple', 'app', 'peach', 'plea']"
      ]
     },
     "execution_count": 1,
     "metadata": {},
     "output_type": "execute_result"
    }
   ],
   "source": [
    "def can_construct(word, s):\n",
    "    \"\"\"Check if the word can be constructed from the string while keeping the order.\"\"\"\n",
    "    it = iter(s)\n",
    "    return all(char in it for char in word)\n",
    "\n",
    "\n",
    "def filter_constructible_words(word_list, s):\n",
    "    \"\"\"Return the list of words that can be constructed from the string s.\"\"\"\n",
    "    return [word for word in word_list if can_construct(word, s)]\n",
    "\n",
    "\n",
    "# Example usage\n",
    "word_list = [\"apple\", \"app\", \"peach\", \"plea\", \"leap\", \"banana\"]\n",
    "s = \"applppleaechbn\"\n",
    "\n",
    "# This will return ['apple', 'app', 'plea', 'leap']\n",
    "result = filter_constructible_words(word_list, s)\n",
    "result"
   ]
  },
  {
   "cell_type": "code",
   "execution_count": 2,
   "metadata": {},
   "outputs": [
    {
     "data": {
      "text/plain": [
       "'banana'"
      ]
     },
     "execution_count": 2,
     "metadata": {},
     "output_type": "execute_result"
    }
   ],
   "source": [
    "def can_construct(word, s):\n",
    "    for i in s:\n",
    "        if i in word:\n",
    "            return True\n",
    "\n",
    "\n",
    "def filter(word_list, s):\n",
    "    words = []\n",
    "    for word in word_list:\n",
    "        if can_construct(word, s):\n",
    "            words.append(word)\n",
    "    return word\n",
    "\n",
    "\n",
    "words = filter(word_list, s)\n",
    "words"
   ]
  },
  {
   "cell_type": "code",
   "execution_count": 3,
   "metadata": {},
   "outputs": [
    {
     "name": "stdout",
     "output_type": "stream",
     "text": [
      "['this', 'is', 'a', 'test']\n"
     ]
    }
   ],
   "source": [
    "def word_break(s, lexicon):\n",
    "    n = len(s)\n",
    "    dp = [0] * (n + 1)  # Probability of best segmentation\n",
    "    prev = [-1] * (n + 1)  # Backtracking for reconstruction\n",
    "    dp[0] = 1  # Base case: empty string has a segmentation with probability 1\n",
    "\n",
    "    def is_valid_word(word):\n",
    "        return word in lexicon\n",
    "\n",
    "    def get_probability(words):\n",
    "        # Placeholder: Should return the language model's probability of the sequence of words\n",
    "        return 1.0\n",
    "\n",
    "    # Fill dp table\n",
    "    for i in range(1, n + 1):\n",
    "        for j in range(i):\n",
    "            word = s[j:i]\n",
    "            if is_valid_word(word) and dp[j] > 0:\n",
    "                prob = dp[j] * get_probability(word)\n",
    "                if prob > dp[i]:\n",
    "                    dp[i] = prob\n",
    "                    prev[i] = j\n",
    "\n",
    "    # Reconstruct the best segmentation\n",
    "    if dp[n] == 0:\n",
    "        return None  # No valid segmentation\n",
    "    words = []\n",
    "    i = n\n",
    "    while i > 0:\n",
    "        words.append(s[prev[i] : i])\n",
    "        i = prev[i]\n",
    "    words.reverse()\n",
    "\n",
    "    return words\n",
    "\n",
    "\n",
    "# Example usage\n",
    "lexicon = {\"a\", \"is\", \"test\", \"thesis\", \"this\"}\n",
    "sequence = \"thisisatest\"\n",
    "result = word_break(sequence, lexicon)\n",
    "print(result)"
   ]
  },
  {
   "cell_type": "code",
   "execution_count": 4,
   "metadata": {},
   "outputs": [],
   "source": [
    "def threeSum(nums: list[int]) -> list[list[int]]:\n",
    "    output = []\n",
    "    distinct = []\n",
    "    nums.sort()\n",
    "    i, j, k = 0, 1, 2\n",
    "    for i in range(0, len(nums) - 2):\n",
    "        for j in range(1, len(nums) - 1):\n",
    "            for k in range(2, len(nums)):\n",
    "                list_nums = [nums[i], nums[j], nums[k]]\n",
    "                sum_nums = sum(list_nums)\n",
    "                if i != j and i != k and j != k and sum_nums == 0:\n",
    "                    if set(list_nums) not in distinct:\n",
    "                        distinct.append(set(list_nums))\n",
    "                        output.append(list_nums)\n",
    "    return output"
   ]
  },
  {
   "cell_type": "code",
   "execution_count": 5,
   "metadata": {},
   "outputs": [
    {
     "data": {
      "text/plain": [
       "[[-1, -1, 2], [-1, 0, 1]]"
      ]
     },
     "execution_count": 5,
     "metadata": {},
     "output_type": "execute_result"
    }
   ],
   "source": [
    "nums = [-1, 0, 1, 2, -1, -4]\n",
    "threeSum(nums=nums)"
   ]
  },
  {
   "cell_type": "code",
   "execution_count": 6,
   "metadata": {},
   "outputs": [],
   "source": [
    "def isPalindrome(s: str) -> bool:\n",
    "    pal = \"\"\n",
    "    for char in s.lower():\n",
    "        if char.isalnum():\n",
    "            pal += char\n",
    "    for i in range(len(pal)):\n",
    "        if pal[i] == pal[-i - 1]:\n",
    "            continue\n",
    "        else:\n",
    "            return False\n",
    "    return True"
   ]
  },
  {
   "cell_type": "code",
   "execution_count": 7,
   "metadata": {},
   "outputs": [
    {
     "name": "stdout",
     "output_type": "stream",
     "text": [
      "True\n"
     ]
    }
   ],
   "source": [
    "s = \"A man, a plan, a canal: Panama\"\n",
    "ans = isPalindrome(s)\n",
    "print(ans)"
   ]
  },
  {
   "cell_type": "code",
   "execution_count": 8,
   "metadata": {},
   "outputs": [],
   "source": [
    "def binary_search(arr, target):\n",
    "    assert target <= len(arr) - 1\n",
    "    low, high = 0, len(arr) - 1\n",
    "    mid = 0\n",
    "\n",
    "    while low <= high:\n",
    "        mid = (low + high) // 2\n",
    "        if arr[mid] < target:\n",
    "            low = mid + 1\n",
    "        elif arr[mid] > target:\n",
    "            high = mid - 1\n",
    "        else:\n",
    "            return mid\n",
    "    return -1"
   ]
  },
  {
   "cell_type": "code",
   "execution_count": 9,
   "metadata": {},
   "outputs": [
    {
     "name": "stdout",
     "output_type": "stream",
     "text": [
      "[0, 1, 2, 4, 5, 6, 7, 8, 9, 11, 14, 15, 17, 20]\n",
      "-1\n"
     ]
    }
   ],
   "source": [
    "arr = [0, 1, 2, 4, 5, 6, 7, 8, 9, 11, 14, 15, 17, 20]\n",
    "ans = binary_search(arr, target=3)\n",
    "print(arr)\n",
    "print(ans)"
   ]
  },
  {
   "cell_type": "code",
   "execution_count": 10,
   "metadata": {},
   "outputs": [],
   "source": [
    "def calPoints(operations: list[str]) -> int:\n",
    "    output = []\n",
    "    for op in range(len(operations)):\n",
    "        try:\n",
    "            if type(int(operations[op])):\n",
    "                new_score = int(operations[op])\n",
    "        except:\n",
    "            pass\n",
    "        if operations[op] == \"D\":\n",
    "            new_score = output[-1] * 2\n",
    "        if operations[op] == \"C\":\n",
    "            output.pop()\n",
    "            continue\n",
    "        if operations[op] == \"+\":\n",
    "            new_score = output[-1] + output[-2]\n",
    "        output.append(new_score)\n",
    "    return sum(output)"
   ]
  },
  {
   "cell_type": "code",
   "execution_count": 11,
   "metadata": {},
   "outputs": [
    {
     "data": {
      "text/plain": [
       "30"
      ]
     },
     "execution_count": 11,
     "metadata": {},
     "output_type": "execute_result"
    }
   ],
   "source": [
    "ops = [\"5\", \"2\", \"C\", \"D\", \"+\"]\n",
    "calPoints(ops)"
   ]
  },
  {
   "cell_type": "code",
   "execution_count": 12,
   "metadata": {},
   "outputs": [],
   "source": [
    "def isValid(s: str) -> bool:\n",
    "    stack = []\n",
    "    mapping = {\"(\": \")\", \"[\": \"]\", \"{\": \"}\"}\n",
    "    for i in range(len(s)):\n",
    "        if s[i] in mapping:\n",
    "            stack.append(s[i])\n",
    "        else:\n",
    "            if len(stack) and mapping[stack[-1]] == s[i]:\n",
    "                stack.pop()\n",
    "            else:\n",
    "                return False\n",
    "    return stack == []"
   ]
  },
  {
   "cell_type": "code",
   "execution_count": 13,
   "metadata": {},
   "outputs": [
    {
     "data": {
      "text/plain": [
       "False"
      ]
     },
     "execution_count": 13,
     "metadata": {},
     "output_type": "execute_result"
    }
   ],
   "source": [
    "s = \"]\"\n",
    "isValid(s)"
   ]
  },
  {
   "cell_type": "code",
   "execution_count": 14,
   "metadata": {},
   "outputs": [],
   "source": [
    "class MinStack:\n",
    "    def __init__(self):\n",
    "        self.arr = []\n",
    "        self.min_stack = []\n",
    "\n",
    "    def push(self, val: int) -> None:\n",
    "        self.arr.append(val)\n",
    "        if not self.min_stack or val <= self.min_stack[-1]:\n",
    "            self.min_stack.append(val)\n",
    "\n",
    "    def pop(self) -> None:\n",
    "        if self.arr:\n",
    "            if self.arr[-1] == self.min_stack[-1]:\n",
    "                self.min_stack.pop()\n",
    "            self.arr.pop()\n",
    "\n",
    "    def top(self) -> int:\n",
    "        if self.arr:\n",
    "            return self.arr[-1]\n",
    "        return None\n",
    "\n",
    "    def getMin(self) -> int:\n",
    "        if self.min_stack:\n",
    "            return self.min_stack[-1]\n",
    "        return None"
   ]
  },
  {
   "cell_type": "code",
   "execution_count": 15,
   "metadata": {},
   "outputs": [
    {
     "data": {
      "text/plain": [
       "[0]"
      ]
     },
     "execution_count": 15,
     "metadata": {},
     "output_type": "execute_result"
    }
   ],
   "source": [
    "minstack = MinStack()\n",
    "minstack.push(0)\n",
    "minstack.arr"
   ]
  },
  {
   "cell_type": "code",
   "execution_count": 16,
   "metadata": {},
   "outputs": [
    {
     "name": "stdout",
     "output_type": "stream",
     "text": [
      "4\n"
     ]
    }
   ],
   "source": [
    "def math_challenge(num1, num2):\n",
    "    while num2 != 0:\n",
    "        num1, num2 = num2, num1 % num2\n",
    "    return num1\n",
    "\n",
    "\n",
    "# Example usage\n",
    "num1 = 12\n",
    "num2 = 16\n",
    "print(math_challenge(num1, num2))"
   ]
  },
  {
   "cell_type": "code",
   "execution_count": 17,
   "metadata": {},
   "outputs": [],
   "source": [
    "def ArrayChallenge(arr):\n",
    "    sort_arr = sorted(arr)\n",
    "    max1, max2 = sort_arr[-1], sort_arr[-2]\n",
    "    prod = max1 * max2\n",
    "    sum_arr = sum(arr) * 2\n",
    "    if prod > sum_arr:\n",
    "        return \"true\"\n",
    "    return \"false\""
   ]
  },
  {
   "cell_type": "code",
   "execution_count": 18,
   "metadata": {},
   "outputs": [],
   "source": [
    "def ArrayChallenge(arr):\n",
    "    # Initialize the two largest numbers\n",
    "    if len(arr) < 2:\n",
    "        return \"false\"  # Not enough elements to form a pair\n",
    "    max1 = float(\"-inf\")\n",
    "    max2 = float(\"-inf\")\n",
    "    # Initialize the sum\n",
    "    total_sum = 0\n",
    "    for num in arr:\n",
    "        # Update the total sum\n",
    "        total_sum += num\n",
    "        # Update the two largest numbers\n",
    "        if num > max1:\n",
    "            max2 = max1\n",
    "            max1 = num\n",
    "        elif num > max2:\n",
    "            max2 = num\n",
    "        print(max1, max2)\n",
    "    # Calculate the product of the two largest numbers\n",
    "    product = max1 * max2\n",
    "    # Calculate double the total sum\n",
    "    double_sum = 2 * total_sum\n",
    "    # Compare the product with the doubled sum\n",
    "    if product > double_sum:\n",
    "        return \"true\"\n",
    "    return \"false\""
   ]
  },
  {
   "cell_type": "code",
   "execution_count": 19,
   "metadata": {},
   "outputs": [
    {
     "name": "stdout",
     "output_type": "stream",
     "text": [
      "2 -inf\n",
      "5 2\n",
      "6 5\n",
      "6 5\n",
      "26 6\n",
      "26 6\n",
      "26 6\n",
      "26 6\n",
      "26 6\n",
      "26 6\n",
      "true\n"
     ]
    }
   ],
   "source": [
    "# Example usage\n",
    "arr = [2, 5, 6, -6, 26, 2, 3, 6, 5, 3]\n",
    "print(ArrayChallenge(arr))"
   ]
  },
  {
   "cell_type": "code",
   "execution_count": null,
   "metadata": {},
   "outputs": [],
   "source": []
  },
  {
   "cell_type": "code",
   "execution_count": null,
   "metadata": {},
   "outputs": [],
   "source": []
  },
  {
   "cell_type": "code",
   "execution_count": null,
   "metadata": {},
   "outputs": [],
   "source": []
  }
 ],
 "metadata": {
  "kernelspec": {
   "display_name": ".venv",
   "language": "python",
   "name": "python3"
  },
  "language_info": {
   "codemirror_mode": {
    "name": "ipython",
    "version": 3
   },
   "file_extension": ".py",
   "mimetype": "text/x-python",
   "name": "python",
   "nbconvert_exporter": "python",
   "pygments_lexer": "ipython3",
   "version": "3.11.6"
  }
 },
 "nbformat": 4,
 "nbformat_minor": 2
}
